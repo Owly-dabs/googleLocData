{
 "cells": [
  {
   "cell_type": "markdown",
   "id": "9dbcea6b",
   "metadata": {},
   "source": [
    "## Sup! To begin this program, let's code each of the components of the program\n"
   ]
  },
  {
   "cell_type": "code",
   "execution_count": 82,
   "id": "58a79a84",
   "metadata": {},
   "outputs": [],
   "source": [
    "#To load data from the csv file\n",
    "\n",
    "import csv\n",
    "with open('locData.csv') as csv_file:\n",
    "    reader = csv.reader(csv_file)\n",
    "    data = list(reader)"
   ]
  },
  {
   "cell_type": "code",
   "execution_count": 83,
   "id": "50c5c8ee",
   "metadata": {},
   "outputs": [],
   "source": [
    "#Turning the column of data into separate sets of numbers\n",
    "\n",
    "SET_A = [column[0] for column in data]\n",
    "SET_B = [column[1] for column in data]\n",
    "\n",
    "#define the length of number\n",
    "lengthOfNumber = 5"
   ]
  },
  {
   "cell_type": "code",
   "execution_count": 68,
   "id": "7e5030f7",
   "metadata": {},
   "outputs": [],
   "source": [
    "#Turn the integers into strings (12345 --> '12345')\n",
    "SET_A = [str(val) for val in SET_A]\n",
    "SET_B = [str(val) for val in SET_B]"
   ]
  },
  {
   "cell_type": "code",
   "execution_count": 69,
   "id": "64d2bede",
   "metadata": {},
   "outputs": [],
   "source": [
    "#function to test one number against another number\n",
    "\n",
    "def testTwoNums(number1, number2):\n",
    "    matches = 0 #number of matches between two numbers is set to 0 initially\n",
    "    matching = True #set Matching to True so that while loop runs\n",
    "    i = 0 #i denotes the position of the digit\n",
    "    \n",
    "    while matching and i<lengthOfNumber:\n",
    "        \n",
    "        if number1[i] == number2[i]:\n",
    "            matches+=1 #for every digit that matches, the value of 'matches' increases by 1\n",
    "            i+=1 # Adds 1 to i to move on to next digit\n",
    "            continue #Moves on to next iteration of loop   \n",
    "        else: \n",
    "            break #stops loop when two digits do not match\n",
    "    \n",
    "    return matches\n",
    "                    "
   ]
  },
  {
   "cell_type": "code",
   "execution_count": 70,
   "id": "54d380fe",
   "metadata": {},
   "outputs": [
    {
     "name": "stdout",
     "output_type": "stream",
     "text": [
      "5\n"
     ]
    }
   ],
   "source": [
    "print(testTwoNums('12345','12345'))"
   ]
  },
  {
   "cell_type": "code",
   "execution_count": 71,
   "id": "911ff3b3",
   "metadata": {},
   "outputs": [],
   "source": [
    "#function to test one number against a set of numbers\n",
    "\n",
    "def testNumToSet(number, setOfNum):\n",
    "    #Create lists to store numbers with '1 similar number', '2 similar number', etc.\n",
    "    sim1 = []\n",
    "    sim2 = []\n",
    "    sim3 = []\n",
    "    sim4 = []\n",
    "    sim5 = []\n",
    "    \n",
    "    for testNum in setOfNum:\n",
    "        if testTwoNums(number,testNum) == 1:\n",
    "            sim1.append(testNum)\n",
    "        elif testTwoNums(number,testNum) == 2:\n",
    "            sim2.append(testNum)\n",
    "        elif testTwoNums(number,testNum) == 3:\n",
    "            sim3.append(testNum)\n",
    "        elif testTwoNums(number,testNum) == 4:\n",
    "            sim4.append(testNum)\n",
    "        elif testTwoNums(number,testNum) == 5:\n",
    "            sim5.append(testNum)\n",
    "            \n",
    "    return number,sim1,sim2,sim3,sim4,sim5\n",
    "            "
   ]
  },
  {
   "cell_type": "code",
   "execution_count": 72,
   "id": "b9eb8cfa",
   "metadata": {},
   "outputs": [],
   "source": [
    "#function to print result\n",
    "\n",
    "def printResult(number,sim1,sim2,sim3,sim4,sim5):\n",
    "    print('The result for %s from set 1:\\n\\n5 similar numbers: %s\\n\\n4 similar numbers: %s\\n\\n3 similar numbers: %s\\n\\n2 similar numbers: %s\\n\\n1 similar number: %s \\n'\n",
    "          %(str(number),str(sim5),str(sim4),str(sim3),str(sim2),str(sim1)))"
   ]
  },
  {
   "cell_type": "code",
   "execution_count": 73,
   "id": "f7bbf243",
   "metadata": {},
   "outputs": [
    {
     "name": "stdout",
     "output_type": "stream",
     "text": [
      "The result for 38019 from set 1:\n",
      "\n",
      "5 similar numbers: []\n",
      "\n",
      "4 similar numbers: []\n",
      "\n",
      "3 similar numbers: ['38022']\n",
      "\n",
      "2 similar numbers: []\n",
      "\n",
      "1 similar number: [] \n",
      "\n"
     ]
    }
   ],
   "source": [
    "number,sim1,sim2,sim3,sim4,sim5 = testNumToSet('38019',SET_B)\n",
    "printResult(number,sim1,sim2,sim3,sim4,sim5)"
   ]
  },
  {
   "cell_type": "markdown",
   "id": "9ce69a3d",
   "metadata": {},
   "source": [
    "### Now we can put the components of the code together "
   ]
  },
  {
   "cell_type": "code",
   "execution_count": 84,
   "id": "2a82ba7e",
   "metadata": {},
   "outputs": [],
   "source": [
    "#COMPLETE CODE\n",
    "\n",
    "import csv\n",
    "with open('locData.csv') as csv_file:\n",
    "    reader = csv.reader(csv_file)\n",
    "    data = list(reader)\n",
    "    \n",
    "SET_A = [column[0] for column in data]\n",
    "SET_B = [column[1] for column in data]\n",
    "\n",
    "lengthOfNumber = 5\n",
    "\n",
    "SET_A = [str(val) for val in SET_A]\n",
    "SET_B = [str(val) for val in SET_B]\n",
    "\n",
    "def testTwoNums(number1, number2):\n",
    "    matches = 0 #number of matches between two numbers is set to 0 initially\n",
    "    matching = True #set Matching to True so that while loop runs\n",
    "    i = 0 #i denotes the position of the digit\n",
    "    \n",
    "    while matching and i<lengthOfNumber:\n",
    "        \n",
    "        if number1[i] == number2[i]:\n",
    "            matches+=1 #for every digit that matches, the value of 'matches' increases by 1\n",
    "            i+=1 # Adds 1 to i to move on to next digit\n",
    "            continue #Moves on to next iteration of loop   \n",
    "        else: \n",
    "            break #stops loop when two digits do not match\n",
    "    \n",
    "    return matches\n",
    "\n",
    "def testNumToSet(number, setOfNum):\n",
    "    #Create lists to store numbers with '1 similar number', '2 similar number', etc.\n",
    "    sim1 = []\n",
    "    sim2 = []\n",
    "    sim3 = []\n",
    "    sim4 = []\n",
    "    sim5 = []\n",
    "    \n",
    "    for testNum in setOfNum:\n",
    "        if testTwoNums(number,testNum) == 1:\n",
    "            sim1.append(testNum)\n",
    "        elif testTwoNums(number,testNum) == 2:\n",
    "            sim2.append(testNum)\n",
    "        elif testTwoNums(number,testNum) == 3:\n",
    "            sim3.append(testNum)\n",
    "        elif testTwoNums(number,testNum) == 4:\n",
    "            sim4.append(testNum)\n",
    "        elif testTwoNums(number,testNum) == 5:\n",
    "            sim5.append(testNum)\n",
    "            \n",
    "    return number,sim1,sim2,sim3,sim4,sim5\n",
    "\n",
    "def printResult(number,sim1,sim2,sim3,sim4,sim5):\n",
    "    print('The result for %s from set 1:\\n\\n5 similar numbers: %s\\n\\n4 similar numbers: %s\\n\\n3 similar numbers: %s\\n\\n2 similar numbers: %s\\n\\n1 similar number: %s \\n'\n",
    "          %(str(number),str(sim5),str(sim4),str(sim3),str(sim2),str(sim1)))"
   ]
  },
  {
   "cell_type": "code",
   "execution_count": 85,
   "id": "15e058f2",
   "metadata": {},
   "outputs": [
    {
     "name": "stdout",
     "output_type": "stream",
     "text": [
      "The result for 12345 from set 1:\n",
      "\n",
      "5 similar numbers: []\n",
      "\n",
      "4 similar numbers: []\n",
      "\n",
      "3 similar numbers: []\n",
      "\n",
      "2 similar numbers: ['12456']\n",
      "\n",
      "1 similar number: ['13452', '16375'] \n",
      "\n",
      "The result for 13452 from set 1:\n",
      "\n",
      "5 similar numbers: ['13452']\n",
      "\n",
      "4 similar numbers: []\n",
      "\n",
      "3 similar numbers: []\n",
      "\n",
      "2 similar numbers: []\n",
      "\n",
      "1 similar number: ['12456', '16375'] \n",
      "\n",
      "The result for 16375 from set 1:\n",
      "\n",
      "5 similar numbers: ['16375']\n",
      "\n",
      "4 similar numbers: []\n",
      "\n",
      "3 similar numbers: []\n",
      "\n",
      "2 similar numbers: []\n",
      "\n",
      "1 similar number: ['12456', '13452'] \n",
      "\n",
      "The result for 89212 from set 1:\n",
      "\n",
      "5 similar numbers: []\n",
      "\n",
      "4 similar numbers: []\n",
      "\n",
      "3 similar numbers: []\n",
      "\n",
      "2 similar numbers: []\n",
      "\n",
      "1 similar number: [] \n",
      "\n",
      "The result for 54831 from set 1:\n",
      "\n",
      "5 similar numbers: []\n",
      "\n",
      "4 similar numbers: []\n",
      "\n",
      "3 similar numbers: []\n",
      "\n",
      "2 similar numbers: []\n",
      "\n",
      "1 similar number: ['51111'] \n",
      "\n"
     ]
    }
   ],
   "source": [
    "for testNum in SET_A:\n",
    "    \n",
    "    number,sim1,sim2,sim3,sim4,sim5 = testNumToSet(testNum,SET_B)\n",
    "\n",
    "    printResult(number,sim1,sim2,sim3,sim4,sim5)"
   ]
  },
  {
   "cell_type": "code",
   "execution_count": null,
   "id": "d7462b46",
   "metadata": {},
   "outputs": [],
   "source": []
  }
 ],
 "metadata": {
  "kernelspec": {
   "display_name": "Python 3",
   "language": "python",
   "name": "python3"
  },
  "language_info": {
   "codemirror_mode": {
    "name": "ipython",
    "version": 3
   },
   "file_extension": ".py",
   "mimetype": "text/x-python",
   "name": "python",
   "nbconvert_exporter": "python",
   "pygments_lexer": "ipython3",
   "version": "3.8.8"
  }
 },
 "nbformat": 4,
 "nbformat_minor": 5
}
